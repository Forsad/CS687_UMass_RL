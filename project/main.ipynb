{
 "cells": [
  {
   "cell_type": "code",
   "execution_count": 3,
   "metadata": {},
   "outputs": [],
   "source": [
    "def read_episode(f):\n",
    "    episode = []\n",
    "    epLen = int(f.readline())\n",
    "    for st in range(epLen):\n",
    "        ln = f.readline()[:-1]\n",
    "        vals = ln.split(\",\")\n",
    "        vals = {\"s\": int(vals[0]), \"a\": int(vals[1]), \"r\": float(vals[2]), \"prob\": float(vals[3])}\n",
    "        #print(vals)\n",
    "        episode.append(vals)\n",
    "    return episode\n",
    "def read_data(dat_fl):\n",
    "    ret = []\n",
    "    with open(dat_fl, \"r\") as f:\n",
    "        eps = int(f.readline())\n",
    "        for ep in range(eps):\n",
    "            episode = read_episode(f)\n",
    "            ret.append(episode)\n",
    "    return ret\n",
    "\n",
    "\n",
    "dat_fl = \"data.csv\"\n",
    "dat = read_data(\"data.csv\")"
   ]
  },
  {
   "cell_type": "code",
   "execution_count": 20,
   "metadata": {},
   "outputs": [
    {
     "name": "stdout",
     "output_type": "stream",
     "text": [
      "1000000\n",
      "68\n",
      "13\n",
      "{'s': 17, 'a': 2, 'r': 1.0, 'prob': 0.125}\n"
     ]
    }
   ],
   "source": [
    "print(len(dat))\n",
    "print(len(dat[0]))\n",
    "print(len(dat[-1]))\n",
    "print(dat[0][0])"
   ]
  },
  {
   "cell_type": "code",
   "execution_count": 17,
   "metadata": {},
   "outputs": [
    {
     "name": "stdout",
     "output_type": "stream",
     "text": [
      "[[0.         0.         0.         0.        ]\n",
      " [0.         0.         0.         0.        ]\n",
      " [0.         0.         0.         0.        ]\n",
      " [0.         0.         0.         0.        ]\n",
      " [0.         0.         0.         0.        ]\n",
      " [0.         0.         0.         0.        ]\n",
      " [0.         0.         0.         0.        ]\n",
      " [0.         0.         0.         0.        ]\n",
      " [0.         0.         0.         0.        ]\n",
      " [0.         0.         0.         0.        ]\n",
      " [0.         0.         0.         0.        ]\n",
      " [0.         5.50848858 0.         0.        ]\n",
      " [0.         0.         0.         0.        ]\n",
      " [0.         0.         0.         0.        ]\n",
      " [0.         0.         0.         5.50343564]\n",
      " [0.         0.         0.         0.        ]\n",
      " [0.         0.         0.         0.        ]\n",
      " [0.         0.         1.         1.        ]]\n"
     ]
    }
   ],
   "source": [
    "print(reward)"
   ]
  },
  {
   "cell_type": "code",
   "execution_count": 19,
   "metadata": {},
   "outputs": [
    {
     "name": "stdout",
     "output_type": "stream",
     "text": [
      "[[1. 0. 0. 0. 0. 0. 0. 0. 0. 0. 0. 0. 0. 0. 0. 0. 0. 0.]\n",
      " [0. 0. 0. 0. 1. 0. 0. 0. 0. 0. 0. 0. 0. 0. 0. 0. 0. 0.]\n",
      " [1. 0. 0. 0. 0. 0. 0. 0. 0. 0. 0. 0. 0. 0. 0. 0. 0. 0.]\n",
      " [0. 1. 0. 0. 0. 0. 0. 0. 0. 0. 0. 0. 0. 0. 0. 0. 0. 0.]]\n"
     ]
    }
   ],
   "source": [
    "print(psas[0, :, :])"
   ]
  },
  {
   "cell_type": "code",
   "execution_count": 5,
   "metadata": {},
   "outputs": [],
   "source": [
    "import pickle as pkl\n",
    "with open(\"dat.pkl\", \"wb\") as f:\n",
    "    pkl.dump(dat, f)"
   ]
  },
  {
   "cell_type": "code",
   "execution_count": 22,
   "metadata": {},
   "outputs": [],
   "source": [
    "with open(\"dat.pkl\", \"rb\") as f:\n",
    "    dat = pkl.load(f)"
   ]
  },
  {
   "cell_type": "code",
   "execution_count": null,
   "metadata": {},
   "outputs": [],
   "source": []
  },
  {
   "cell_type": "code",
   "execution_count": 4,
   "metadata": {},
   "outputs": [
    {
     "name": "stdout",
     "output_type": "stream",
     "text": [
      "[[1.857325e+06 1.854843e+06 1.855831e+06 1.857339e+06]\n",
      " [1.359353e+06 1.355745e+06 1.358209e+06 1.355663e+06]\n",
      " [1.071476e+06 1.072048e+06 1.069895e+06 1.070603e+06]\n",
      " [9.299510e+05 9.277210e+05 9.283250e+05 9.282430e+05]\n",
      " [1.353973e+06 1.357334e+06 1.355931e+06 1.356830e+06]\n",
      " [1.142383e+06 1.142122e+06 1.142295e+06 1.144048e+06]\n",
      " [9.285580e+05 9.293670e+05 9.287120e+05 9.277650e+05]\n",
      " [7.854430e+05 7.847580e+05 7.839520e+05 7.833410e+05]\n",
      " [1.070999e+06 1.072994e+06 1.071378e+06 1.070747e+06]\n",
      " [9.295610e+05 9.278360e+05 9.276120e+05 9.284670e+05]\n",
      " [7.143540e+05 7.146070e+05 7.143720e+05 7.137480e+05]\n",
      " [4.986670e+05 5.009670e+05 4.988720e+05 4.993640e+05]\n",
      " [9.297940e+05 9.272980e+05 9.285790e+05 9.294180e+05]\n",
      " [7.862350e+05 7.859900e+05 7.862180e+05 7.848450e+05]\n",
      " [5.003750e+05 5.004630e+05 5.000440e+05 4.990330e+05]\n",
      " [1.000000e+00 1.000000e+00 1.000000e+00 1.000000e+00]\n",
      " [2.492610e+05 2.501860e+05 2.508440e+05 2.497090e+05]\n",
      " [3.756160e+05 3.744300e+05 1.248980e+05 1.250560e+05]]\n"
     ]
    }
   ],
   "source": [
    "import numpy as np\n",
    "\n",
    "def make_model():\n",
    "    psas = np.zeros((18, 4, 18))\n",
    "    reward = np.zeros((18, 4))\n",
    "    reward_count = np.zeros((18, 4))\n",
    "    for episode in dat:\n",
    "        for idx, val in enumerate(episode):\n",
    "            s = val['s']\n",
    "            a = val['a']\n",
    "            r = val['r']\n",
    "            reward[s, a] += r\n",
    "            reward_count[s, a] += 1\n",
    "            if idx < len(episode) - 1:\n",
    "                sp = episode[idx + 1]['s']\n",
    "                psas[s, a, sp] += 1\n",
    "    reward_count = np.maximum(reward_count, 1)\n",
    "    print(reward_count)\n",
    "    reward /= reward_count\n",
    "    for idx1 in range(psas.shape[0]):\n",
    "        for idx2 in range(psas.shape[1]):\n",
    "            sm = np.sum(psas[idx1, idx2, :])\n",
    "            if sm > 0:\n",
    "                psas[idx1, idx2, :] /= sm\n",
    "            else:\n",
    "                psas[idx1, idx2, :] = 1.0/18\n",
    "    #print(psas)\n",
    "    return (reward, psas)\n",
    "\n",
    "(reward, psas) = make_model()\n",
    "    \n"
   ]
  },
  {
   "cell_type": "code",
   "execution_count": 6,
   "metadata": {},
   "outputs": [
    {
     "name": "stdout",
     "output_type": "stream",
     "text": [
      "Processed  1\n",
      "Processed  100001\n",
      "Processed  200001\n",
      "Processed  300001\n",
      "Processed  400001\n",
      "Processed  500001\n",
      "Processed  600001\n",
      "Processed  700001\n",
      "Processed  800001\n",
      "Processed  900001\n",
      "142.60713005065918  -> total eclipsed time\n"
     ]
    }
   ],
   "source": [
    "import time\n",
    "def scan_time(data_file_path):\n",
    "    start_time = time.time()\n",
    "    with open(data_file_path, 'r') as f:\n",
    "        N = int(f.readline())\n",
    "        for k in range(N):\n",
    "            L = int(f.readline())\n",
    "            for i in range(L):\n",
    "                line = str(f.readline()).rstrip().split(',')\n",
    "                s_a_r_pi = tuple([int(e) if i <=2 else float(e) for i, e in enumerate(line)])\n",
    "            if k%100000 == 0:\n",
    "                print(\"Processed \", k+1)\n",
    "    end_time = time.time()\n",
    "    print(end_time-start_time, \" -> total eclipsed time\")\n",
    "data_file_path = 'data.csv'\n",
    "scan_time(data_file_path)"
   ]
  },
  {
   "cell_type": "code",
   "execution_count": null,
   "metadata": {},
   "outputs": [],
   "source": []
  }
 ],
 "metadata": {
  "kernelspec": {
   "display_name": "Python 3",
   "language": "python",
   "name": "python3"
  }
 },
 "nbformat": 4,
 "nbformat_minor": 4
}
